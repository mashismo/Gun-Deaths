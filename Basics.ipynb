{
 "cells": [
  {
   "cell_type": "code",
   "execution_count": 2,
   "metadata": {
    "collapsed": false
   },
   "outputs": [
    {
     "name": "stdout",
     "output_type": "stream",
     "text": [
      "[['', 'year', 'month', 'intent', 'police', 'sex', 'age', 'race', 'hispanic', 'place', 'education'], ['1', '2012', '01', 'Suicide', '0', 'M', '34', 'Asian/Pacific Islander', '100', 'Home', '4'], ['2', '2012', '01', 'Suicide', '0', 'F', '21', 'White', '100', 'Street', '3'], ['3', '2012', '01', 'Suicide', '0', 'M', '60', 'White', '100', 'Other specified', '4'], ['4', '2012', '02', 'Suicide', '0', 'M', '64', 'White', '100', 'Home', '4']]\n"
     ]
    }
   ],
   "source": [
    "import csv\n",
    "with open(\"guns.csv\",\"r\") as file:\n",
    "    f=csv.reader(file)\n",
    "    data=list(f)\n",
    "print(data[0:5])"
   ]
  },
  {
   "cell_type": "code",
   "execution_count": 3,
   "metadata": {
    "collapsed": false
   },
   "outputs": [
    {
     "name": "stdout",
     "output_type": "stream",
     "text": [
      "['', 'year', 'month', 'intent', 'police', 'sex', 'age', 'race', 'hispanic', 'place', 'education']\n",
      "[['1', '2012', '01', 'Suicide', '0', 'M', '34', 'Asian/Pacific Islander', '100', 'Home', '4'], ['2', '2012', '01', 'Suicide', '0', 'F', '21', 'White', '100', 'Street', '3'], ['3', '2012', '01', 'Suicide', '0', 'M', '60', 'White', '100', 'Other specified', '4'], ['4', '2012', '02', 'Suicide', '0', 'M', '64', 'White', '100', 'Home', '4']]\n"
     ]
    }
   ],
   "source": [
    "headers=data[0]\n",
    "data=data[1:]\n",
    "print(headers)\n",
    "print(data[0:4])"
   ]
  },
  {
   "cell_type": "code",
   "execution_count": 4,
   "metadata": {
    "collapsed": false
   },
   "outputs": [
    {
     "name": "stdout",
     "output_type": "stream",
     "text": [
      "{'2014': 33599, '2012': 33563, '2013': 33636}\n"
     ]
    }
   ],
   "source": [
    "years=[]\n",
    "for row in data:\n",
    "    years.append(row[1])\n",
    "year_counts={}\n",
    "for year in years:\n",
    "    if year in year_counts:\n",
    "        year_counts[year]+=1\n",
    "    else:\n",
    "        year_counts[year]=1\n",
    "print(year_counts)"
   ]
  },
  {
   "cell_type": "code",
   "execution_count": 15,
   "metadata": {
    "collapsed": false
   },
   "outputs": [
    {
     "name": "stdout",
     "output_type": "stream",
     "text": [
      "['2012-01-01 00:00:00', '2012-01-01 00:00:00', '2012-01-01 00:00:00', '2012-02-01 00:00:00', '2012-02-01 00:00:00']\n",
      "{'2014-06-01 00:00:00': 2931, '2014-02-01 00:00:00': 2361, '2012-05-01 00:00:00': 2999, '2014-11-01 00:00:00': 2756, '2013-01-01 00:00:00': 2864, '2012-02-01 00:00:00': 2357, '2014-10-01 00:00:00': 2865, '2013-11-01 00:00:00': 2758, '2012-07-01 00:00:00': 3026, '2014-01-01 00:00:00': 2651, '2012-06-01 00:00:00': 2826, '2012-12-01 00:00:00': 2791, '2013-03-01 00:00:00': 2862, '2014-03-01 00:00:00': 2684, '2014-07-01 00:00:00': 2884, '2012-10-01 00:00:00': 2733, '2013-02-01 00:00:00': 2375, '2012-09-01 00:00:00': 2852, '2012-03-01 00:00:00': 2743, '2013-12-01 00:00:00': 2765, '2014-12-01 00:00:00': 2857, '2014-09-01 00:00:00': 2914, '2014-08-01 00:00:00': 2970, '2012-01-01 00:00:00': 2758, '2013-05-01 00:00:00': 2806, '2012-08-01 00:00:00': 2954, '2013-09-01 00:00:00': 2742, '2013-07-01 00:00:00': 3079, '2013-04-01 00:00:00': 2798, '2013-06-01 00:00:00': 2920, '2012-04-01 00:00:00': 2795, '2013-08-01 00:00:00': 2859, '2014-04-01 00:00:00': 2862, '2012-11-01 00:00:00': 2729, '2013-10-01 00:00:00': 2808, '2014-05-01 00:00:00': 2864}\n"
     ]
    }
   ],
   "source": [
    "import datetime\n",
    "dates=[]\n",
    "for row in data:\n",
    "    date=datetime.datetime(year=int(row[1]),month=int(row[2]),day=1)\n",
    "    dates.append(str(date))\n",
    "print(dates[:5])\n",
    "date_counts={}\n",
    "for row in dates:\n",
    "    if row in date_counts:\n",
    "        date_counts[row]+=1\n",
    "    else:\n",
    "        date_counts[row]=1\n",
    "print(date_counts)"
   ]
  },
  {
   "cell_type": "code",
   "execution_count": 16,
   "metadata": {
    "collapsed": false
   },
   "outputs": [
    {
     "name": "stdout",
     "output_type": "stream",
     "text": [
      "{'M': 86349, 'F': 14449}\n",
      "{'Asian/Pacific Islander': 1326, 'Black': 23296, 'Native American/Native Alaskan': 917, 'Hispanic': 9022, 'White': 66237}\n"
     ]
    }
   ],
   "source": [
    "sex_counts={}\n",
    "for row in data:\n",
    "    if row[5] in sex_counts:\n",
    "        sex_counts[row[5]]+=1\n",
    "    else:\n",
    "        sex_counts[row[5]]=1\n",
    "race_counts={}\n",
    "for row in data:\n",
    "    if row[7] in race_counts:\n",
    "        race_counts[row[7]]+=1\n",
    "    else:\n",
    "        race_counts[row[7]]=1\n",
    "print(sex_counts)\n",
    "print(race_counts)"
   ]
  },
  {
   "cell_type": "markdown",
   "metadata": {},
   "source": [
    "So far I have learned that gun deaths are most common among male white people. Now it would be interesting to find out what the motive breakdown was. "
   ]
  },
  {
   "cell_type": "code",
   "execution_count": 17,
   "metadata": {
    "collapsed": false
   },
   "outputs": [
    {
     "name": "stdout",
     "output_type": "stream",
     "text": [
      "[['Id', 'Year', 'Id', 'Sex', 'Id', 'Hispanic Origin', 'Id', 'Id2', 'Geography', 'Total', 'Race Alone - White', 'Race Alone - Hispanic', 'Race Alone - Black or African American', 'Race Alone - American Indian and Alaska Native', 'Race Alone - Asian', 'Race Alone - Native Hawaiian and Other Pacific Islander', 'Two or More Races'], ['cen42010', 'April 1, 2010 Census', 'totsex', 'Both Sexes', 'tothisp', 'Total', '0100000US', '', 'United States', '308745538', '197318956', '44618105', '40250635', '3739506', '15159516', '674625', '6984195']]\n"
     ]
    }
   ],
   "source": [
    "with open(\"census.csv\",\"r\") as file:\n",
    "    f = csv.reader(file)\n",
    "    census = list(f)\n",
    "print(census)"
   ]
  },
  {
   "cell_type": "code",
   "execution_count": 21,
   "metadata": {
    "collapsed": false
   },
   "outputs": [
    {
     "name": "stdout",
     "output_type": "stream",
     "text": [
      "{'Asian/Pacific Islander': 8.374309664161762, 'White': 33.56849303419181, 'Native American/Native Alaskan': 24.521955573811088, 'Hispanic': 20.220491210910907, 'Black': 57.8773477735196}\n"
     ]
    }
   ],
   "source": [
    "mapping={\n",
    "    \"Asian/Pacific Islander\": 15834141,\n",
    "    \"Black\": 40250635,\n",
    "    \"Native American/Native Alaskan\": 3739506,\n",
    "    \"Hispanic\": 44618105,\n",
    "    \"White\": 197318956\n",
    "}\n",
    "\n",
    "race_per_hundredk={}\n",
    "for key in race_counts:\n",
    "    race_per_hundredk[key]=100000*(race_counts[key]/mapping[key])\n",
    "\n",
    "print(race_per_hundredk)"
   ]
  },
  {
   "cell_type": "code",
   "execution_count": 22,
   "metadata": {
    "collapsed": false
   },
   "outputs": [
    {
     "name": "stdout",
     "output_type": "stream",
     "text": [
      "{'White': 4.6356417981453335, 'Black': 48.471284987180944, 'Native American/Native Alaskan': 8.717729026240365, 'Hispanic': 12.627161104219914, 'Asian/Pacific Islander': 3.530346230970155}\n"
     ]
    }
   ],
   "source": [
    "intents=[row[3] for row in data]\n",
    "races=[row[7] for row in data]\n",
    "homicide_race_counts={}\n",
    "for i,race in enumerate(races):\n",
    "    if intents[i]==\"Homicide\":\n",
    "        if race not in homicide_race_counts:\n",
    "            homicide_race_counts[race]=1\n",
    "        else:\n",
    "            homicide_race_counts[race]+=1\n",
    "for key in homicide_race_counts:\n",
    "    homicide_race_counts[key]=100000*(homicide_race_counts[key]/mapping[key])\n",
    "print(homicide_race_counts)\n"
   ]
  },
  {
   "cell_type": "markdown",
   "metadata": {},
   "source": [
    "It is obvious that homicides are most often among the black race. It would be interesting to see if education also plays a role."
   ]
  }
 ],
 "metadata": {
  "kernelspec": {
   "display_name": "Python 3",
   "language": "python",
   "name": "python3"
  },
  "language_info": {
   "codemirror_mode": {
    "name": "ipython",
    "version": 3
   },
   "file_extension": ".py",
   "mimetype": "text/x-python",
   "name": "python",
   "nbconvert_exporter": "python",
   "pygments_lexer": "ipython3",
   "version": "3.4.3"
  }
 },
 "nbformat": 4,
 "nbformat_minor": 0
}
